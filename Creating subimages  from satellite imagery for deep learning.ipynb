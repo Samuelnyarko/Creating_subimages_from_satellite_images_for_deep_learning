{
 "cells": [
  {
   "cell_type": "code",
   "execution_count": null,
   "id": "4f28deb2",
   "metadata": {},
   "outputs": [],
   "source": [
    "import os\n",
    "import cv2\n",
    "import numpy as np\n",
    "import glob\n",
    "from matplotlib import pyplot as plt\n",
    "%matplotlib inline \n",
    "from patchify import patchify\n",
    "from PIL import Image\n",
    "import tensorflow as tf\n",
    "from tensorflow import keras\n",
    "import random"
   ]
  },
  {
   "cell_type": "code",
   "execution_count": null,
   "id": "5307fc35",
   "metadata": {},
   "outputs": [],
   "source": [
    "### Configuring Nvidia GPU"
   ]
  },
  {
   "cell_type": "code",
   "execution_count": null,
   "id": "b6aed53c",
   "metadata": {},
   "outputs": [],
   "source": [
    "def get_mkl_enabled_flag():\n",
    "\n",
    "    mkl_enabled = False\n",
    "    major_version = int(tf.__version__.split(\".\")[0])\n",
    "    minor_version = int(tf.__version__.split(\".\")[1])\n",
    "    if major_version >= 2:\n",
    "        if minor_version < 5:\n",
    "            from tensorflow.python import _pywrap_util_port\n",
    "        else:\n",
    "            from tensorflow.python.util import _pywrap_util_port\n",
    "            onednn_enabled = int(os.environ.get('TF_ENABLE_ONEDNN_OPTS', '0'))\n",
    "        mkl_enabled = _pywrap_util_port.IsMklEnabled() or (onednn_enabled == 1)\n",
    "    else:\n",
    "        mkl_enabled = tf.pywrap_tensorflow.IsMklEnabled()\n",
    "    return mkl_enabled\n",
    "\n",
    "print (\"We are using Tensorflow version\", tf.__version__)\n",
    "print(\"MKL enabled :\", get_mkl_enabled_flag())"
   ]
  },
  {
   "cell_type": "code",
   "execution_count": null,
   "id": "ee8a2c55",
   "metadata": {},
   "outputs": [],
   "source": [
    "### creating subimages"
   ]
  },
  {
   "cell_type": "code",
   "execution_count": null,
   "id": "b21b6e67",
   "metadata": {},
   "outputs": [],
   "source": [
    "root_directory = \"U-NET_images/Both_Images/\"\n",
    "output_directory = \"U-NET_images/Both_Images/128_patches/images/\"\n",
    "patch_size = 128\n",
    "img_dir=root_directory+\"images/\"\n",
    "  \n",
    "images = os.listdir(img_dir)  #List of all image names in this subdirectory\n",
    "#print(images)\n",
    "for i, image_name in enumerate(images):  \n",
    "    if image_name.endswith(\".tif\"):\n",
    "        Image.MAX_IMAGE_PIXELS = None # to be able read images exceeding default pixil size\n",
    "        #print(image_name)\n",
    "        image = cv2.imread(img_dir+\"/\"+image_name, 1)  #Read each image as BGR\n",
    "        print(image.shape)\n",
    "        width = image.shape[1]-image.shape[1]%patch_size\n",
    "        height = image.shape[0]-image.shape[0]%patch_size\n",
    "        print(height, width)\n",
    "        img = image[0:height, 0:width] # crops image to fit tiling\n",
    "        print(\"padded image shape = \", img.shape)\n",
    "        cv2.imwrite(root_directory+\"image.tif\", img)\n",
    "           \n",
    "        #Extract patches from each image\n",
    "        print(\"patchifying image:\", img_dir+\"/\"+image_name)\n",
    "        patches_img = patchify(img, (128, 128, 3), step=128)  #Step=128 for 128 patches means no overlap\n",
    "        cv2.imwrite(root_directory+\"patched_image.tif\",patches_img)\n",
    "    \n",
    "        for i in range(patches_img.shape[0]):\n",
    "            for j in range(patches_img.shape[1]):\n",
    "                single_patch_img = patches_img[i,j,:,:]\n",
    "                single_patch_img = single_patch_img[0] #Drop the extra unecessary dimension that patchify adds.\n",
    "                                           \n",
    "                print(single_patch_img.shape)\n",
    "                cv2.imwrite(root_directory+\"128_patches\\images/\"+ os.path.basename(image_name).split(\".\")[0]+\"_patch_\"+str(i)+\"_\"+str(j)+\".tif\", single_patch_img)                  "
   ]
  },
  {
   "cell_type": "code",
   "execution_count": null,
   "id": "49ed1f1f",
   "metadata": {},
   "outputs": [],
   "source": [
    "#### Saving images with enough pixel information"
   ]
  },
  {
   "cell_type": "code",
   "execution_count": null,
   "id": "fcc8113a",
   "metadata": {},
   "outputs": [],
   "source": [
    "train_img_dir = \"U-NET_images/Both_Images/128_patches/images/\"\n",
    "train_mask_dir = \"U-NET_images/Both_Images/128_patches/masks/\"\n",
    "\n",
    "img_list = os.listdir(train_img_dir)\n",
    "msk_list = os.listdir(train_mask_dir)\n",
    "num_images = len(os.listdir(train_img_dir))\n",
    "useless=0  #Useless image counter\n",
    "for img in range(len(img_list)):   #Using t1_list as all lists are of same size\n",
    "    img_name=img_list[img]\n",
    "    mask_name = msk_list[img]\n",
    "    print(\"Preparing image and masks number: \", img)   \n",
    "    temp_image=cv2.imread(train_img_dir+img_list[img], 1)\n",
    "   \n",
    "    temp_mask=cv2.imread(train_mask_dir+msk_list[img], 0)\n",
    "       \n",
    "    val, counts = np.unique(temp_image, return_counts=True)\n",
    "    \n",
    "    if (1 - (counts[0]/counts.sum())) > 0.99:# saving images with 99% of images with information\n",
    "    \n",
    "        print(\"Save Me\")\n",
    "        cv2.imwrite(\"U-NET_images/Both_Images/128_patches/images_with_useful_info/images/\"+img_name, temp_image)\n",
    "        cv2.imwrite(\"U-NET_images/Both_Images/128_patches/images_with_useful_info/masks/\"+mask_name, temp_mask)\n",
    "        \n",
    "    else:\n",
    "        print(\"I am useless\")   \n",
    "        useless +=1\n",
    "\n",
    "print(\"Sum of useful images: \", len(img_list)-useless)  \n",
    "print(\"Sum of useless images: \", useless) "
   ]
  }
 ],
 "metadata": {
  "kernelspec": {
   "display_name": "Python 3 (ipykernel)",
   "language": "python",
   "name": "python3"
  },
  "language_info": {
   "codemirror_mode": {
    "name": "ipython",
    "version": 3
   },
   "file_extension": ".py",
   "mimetype": "text/x-python",
   "name": "python",
   "nbconvert_exporter": "python",
   "pygments_lexer": "ipython3",
   "version": "3.7.12"
  },
  "toc": {
   "base_numbering": 1,
   "nav_menu": {},
   "number_sections": true,
   "sideBar": true,
   "skip_h1_title": false,
   "title_cell": "Table of Contents",
   "title_sidebar": "Contents",
   "toc_cell": false,
   "toc_position": {},
   "toc_section_display": true,
   "toc_window_display": false
  }
 },
 "nbformat": 4,
 "nbformat_minor": 5
}
